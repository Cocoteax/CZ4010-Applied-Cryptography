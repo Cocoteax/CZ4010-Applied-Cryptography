{
 "cells": [
  {
   "cell_type": "markdown",
   "id": "096d3f4a",
   "metadata": {},
   "source": [
    "# Imports"
   ]
  },
  {
   "cell_type": "code",
   "execution_count": 1,
   "id": "6ab4cd57",
   "metadata": {},
   "outputs": [],
   "source": [
    "import random\n",
    "import secrets\n",
    "from decimal import *"
   ]
  },
  {
   "cell_type": "markdown",
   "id": "9da521a0",
   "metadata": {},
   "source": [
    "# Functions"
   ]
  },
  {
   "cell_type": "markdown",
   "id": "383bb97a",
   "metadata": {},
   "source": [
    "Function to return GCD between 2 numbers (a and b)"
   ]
  },
  {
   "cell_type": "code",
   "execution_count": 2,
   "id": "5464dd73",
   "metadata": {},
   "outputs": [],
   "source": [
    "def gcd(a, b):\n",
    "    while(b):\n",
    "        a, b = b, a % b \n",
    "    return a"
   ]
  },
  {
   "cell_type": "markdown",
   "id": "c9f0b85e",
   "metadata": {},
   "source": [
    "Rabin-Miller Primality Test<br>\n",
    "Checks if a number is prime, n is the number to be tested, s is the number of rounds<br>"
   ]
  },
  {
   "cell_type": "code",
   "execution_count": 3,
   "id": "6679c69c",
   "metadata": {},
   "outputs": [],
   "source": [
    "def RMPT(n, s):\n",
    "    q = n - 1\n",
    "    k = 0\n",
    "    \n",
    "    # Set n = 2^k*q, this while loop returns values k and q\n",
    "    while q % 2 != 1:\n",
    "        q //= 2\n",
    "        k += 1\n",
    "    \n",
    "    # Number of iteration depends on security parameter S\n",
    "    for _ in range(s):\n",
    "        \n",
    "        # Choose a witness\n",
    "        a = random.randrange(2, n - 2)      \n",
    "        \n",
    "        # Set z = a^q mod n\n",
    "        z = pow(a, q, n)\n",
    "        \n",
    "        # If z = 1 mod n or z = -1 mod n, then n is likely prime.\n",
    "        if z == 1 or z == n - 1:\n",
    "            continue #Not a witness, pick another a\n",
    "        \n",
    "        # Else, look through i=0 to k-1\n",
    "        for i in range(1, k):\n",
    "            # Square z: z = a^2 mod n\n",
    "            z = pow(a, pow(2, i)*q, n)\n",
    "            \n",
    "            # If z = -1 mod n, then n is likely prime\n",
    "            if z == n - 1:\n",
    "                break #Not a witness, pick another a\n",
    "                \n",
    "        # After executing for loop, if a^((2^K)*Q)modP != -1 for all values of K, then a is a witness, therefore n is definitely not prime\n",
    "        else:\n",
    "            return False  \n",
    "        \n",
    "    return True #After S iterations still not a composite, chance to be a prime"
   ]
  },
  {
   "cell_type": "markdown",
   "id": "7e577f43",
   "metadata": {},
   "source": [
    "Function to convert a string to its ascii value"
   ]
  },
  {
   "cell_type": "code",
   "execution_count": 4,
   "id": "1bc01953",
   "metadata": {},
   "outputs": [],
   "source": [
    "def convert_to_ascii(message):\n",
    "    ascii_message = \"\"\n",
    "    for char in message:\n",
    "        ascii_char = ord(char)\n",
    "        ascii_char = str(ascii_char)\n",
    "        ascii_char = ascii_char.zfill(3) # Padding\n",
    "        ascii_message += ascii_char\n",
    "    return int(ascii_message)"
   ]
  },
  {
   "cell_type": "markdown",
   "id": "8d9e4614",
   "metadata": {},
   "source": [
    "Function to convert an ascii input to its string value"
   ]
  },
  {
   "cell_type": "code",
   "execution_count": 5,
   "id": "6c26fd7a",
   "metadata": {},
   "outputs": [],
   "source": [
    "from textwrap import wrap\n",
    "\n",
    "def convert_to_string(ascii_message):\n",
    "    message = \"\"\n",
    "    ascii_message = str(ascii_message)\n",
    "    if(len(ascii_message) % 3 != 0):\n",
    "        for _ in range(3 - len(ascii_message) % 3):\n",
    "            ascii_message = \"0\" + ascii_message\n",
    "    ascii_list = wrap(ascii_message, 3)\n",
    "    for ascii in ascii_list:\n",
    "        message = message + chr(int(ascii))\n",
    "    return message"
   ]
  },
  {
   "cell_type": "markdown",
   "id": "ac8b139e",
   "metadata": {},
   "source": [
    "Algorithm to generate decryption exponent from parameters e, p, and q"
   ]
  },
  {
   "cell_type": "code",
   "execution_count": 6,
   "id": "63f5f453",
   "metadata": {},
   "outputs": [],
   "source": [
    "def RSA_generate_D(e, p, q):\n",
    "    N = p * q\n",
    "    phi_N = (p - 1) * (q - 1)\n",
    "    assert gcd(e, phi_N) == 1, \"GCD of e and phi N must be 1\"\n",
    "    d = pow(e, -1, phi_N)\n",
    "    return d"
   ]
  },
  {
   "cell_type": "markdown",
   "id": "3c8ef73d",
   "metadata": {},
   "source": [
    "Algorithm to encrypt a message by raising it to the encryption exponent e mod N"
   ]
  },
  {
   "cell_type": "code",
   "execution_count": 7,
   "id": "53f62355",
   "metadata": {},
   "outputs": [],
   "source": [
    "def RSA_encrypt(ascii_message, e, N):\n",
    "    encrypted_message = pow(ascii_message, e, N)\n",
    "    return encrypted_message"
   ]
  },
  {
   "cell_type": "markdown",
   "id": "d515efb8",
   "metadata": {},
   "source": [
    "Algorithm to decrypt a ciphertext by raising it to the decryption exponent d mod N"
   ]
  },
  {
   "cell_type": "code",
   "execution_count": 8,
   "id": "508a53d4",
   "metadata": {},
   "outputs": [],
   "source": [
    "def RSA_decrypt(encrypted_message, d, N):\n",
    "    ascii_message = pow(encrypted_message, d, N)\n",
    "    return ascii_message"
   ]
  },
  {
   "cell_type": "markdown",
   "id": "a389ea89",
   "metadata": {},
   "source": [
    "Continuously generates random bit_length numbers<br>\n",
    "If number is even, add one to make it odd<br>\n",
    "Tries to factorize the number with small primes to determine if composite. This helps to reduce expensive computation<br>\n",
    "Uses Rabin-Miller Primality Test if it is still possible to be a prime number"
   ]
  },
  {
   "cell_type": "code",
   "execution_count": 9,
   "id": "af3da1c8",
   "metadata": {},
   "outputs": [],
   "source": [
    "def Generate_Prime(bit_length, RMPT_rounds):   \n",
    "    while(True):\n",
    "        num = secrets.randbits(bit_length)\n",
    "        \n",
    "        #If number is even, make it odd\n",
    "        if num%2 == 0:\n",
    "            num += 1\n",
    "        #Try factorize using small primes\n",
    "        elif num%3 == 0:\n",
    "            continue\n",
    "        elif num%5 == 0:\n",
    "            continue\n",
    "        elif num%7 == 0:\n",
    "            continue\n",
    "        elif num%11 == 0:\n",
    "            continue\n",
    "        #Try the expensive Rabin-Miller Primality Test\n",
    "        elif RMPT(num, RMPT_rounds):\n",
    "            print(num)\n",
    "            return num"
   ]
  },
  {
   "cell_type": "markdown",
   "id": "f9b97c15",
   "metadata": {},
   "source": [
    "# Using RSA 1024 for signatures"
   ]
  },
  {
   "cell_type": "markdown",
   "id": "f66bc9ee",
   "metadata": {},
   "source": [
    "Generate 2 random 1024 bit primes"
   ]
  },
  {
   "cell_type": "code",
   "execution_count": 10,
   "id": "63c72d68",
   "metadata": {},
   "outputs": [
    {
     "name": "stdout",
     "output_type": "stream",
     "text": [
      "150869311047398355087557418398554697373072229373354303345728941183834038766042944149622243250847000808600476374709165706532952644404660338905451468500973210545801172533476278790631261397525706216062685292571484237020987735836914236538073344387289066471527748642520157231242910318468580766333660714323946056919\n"
     ]
    }
   ],
   "source": [
    "p = Generate_Prime(1024, 3)"
   ]
  },
  {
   "cell_type": "code",
   "execution_count": 11,
   "id": "b2f24fa9",
   "metadata": {},
   "outputs": [
    {
     "name": "stdout",
     "output_type": "stream",
     "text": [
      "101194771083320368488165550016208718687594418031270340345476626329557430561611325765635842490734339164296760233814284675508472942250893590006557890846503899384591065012762549356026216920677493496923308556777691454735677155206636086729357179334617849917882398441845934415929094498411029928863384186609996448831\n"
     ]
    }
   ],
   "source": [
    "q = Generate_Prime(1024, 3)"
   ]
  },
  {
   "cell_type": "code",
   "execution_count": 12,
   "id": "e0f0ecd6",
   "metadata": {},
   "outputs": [
    {
     "name": "stdout",
     "output_type": "stream",
     "text": [
      "15267185394939733278886954500702577955511119879952307307469514141070620177030056107791608564602042287415821667358078796878009843662556899880054581142129235052210725435288867484005327100190660566134075746952189620710160384902327812223115396593455337766445109497499856662594052960804405056474726630154306534990398583579000704726511042472034988971343046282765202411466118317399543965370355076066400122175032032647739070341988923330695027762189285186225098073997411749486626753021567634905553379638385777674197430613828120190226518630303513063576808525459938703978708610931705376029723250062100813890942352601394997011689\n"
     ]
    }
   ],
   "source": [
    "N = p * q\n",
    "print(N)"
   ]
  },
  {
   "cell_type": "markdown",
   "id": "ab33ed3d",
   "metadata": {},
   "source": [
    "Using 17 as our encryption exponent, generate d"
   ]
  },
  {
   "cell_type": "code",
   "execution_count": 13,
   "id": "d557f225",
   "metadata": {},
   "outputs": [],
   "source": [
    "e = 17\n",
    "d = RSA_generate_D(e, p, q)"
   ]
  },
  {
   "cell_type": "code",
   "execution_count": 14,
   "id": "f56765d7",
   "metadata": {},
   "outputs": [
    {
     "name": "stdout",
     "output_type": "stream",
     "text": [
      "4490348645570509787907927794324287633973858788221266855138092394432535346185310619938708401353541849239947549222964352022944071665457911729427817982979186780061978069202608083530978558879606048862963454985938123738282466147743474183269234292192746401895620440441134312527662635530707369551390185339501922055925446910844113530275093971653007516259523422164875814051444926437103675306676707691512363656897262551424068745136903808427530051627568016856790798426451364575363092786861413752616441564759581753297481401317336617197015805664694923620405294628832878702734842308040965994868013307418000939925090500135604266453\n"
     ]
    }
   ],
   "source": [
    "print(d)"
   ]
  },
  {
   "cell_type": "markdown",
   "id": "f5b062ed",
   "metadata": {},
   "source": [
    "Lets say Eliezer wants to send a message, but he wants to make sure that others can be sure he was the one that truly sent the message"
   ]
  },
  {
   "cell_type": "code",
   "execution_count": 15,
   "id": "b4f14060",
   "metadata": {},
   "outputs": [
    {
     "name": "stdout",
     "output_type": "stream",
     "text": [
      "72105032102114111109032069108105101122101114033\n"
     ]
    }
   ],
   "source": [
    "message = \"Hi from Eliezer!\"\n",
    "\n",
    "ascii_message = convert_to_ascii(message)\n",
    "print(ascii_message)"
   ]
  },
  {
   "cell_type": "markdown",
   "id": "92423ec7",
   "metadata": {},
   "source": [
    "Eliezer can encrypt the message using his private key d"
   ]
  },
  {
   "cell_type": "code",
   "execution_count": 16,
   "id": "61900c0c",
   "metadata": {},
   "outputs": [],
   "source": [
    "encrypted_message = RSA_encrypt(ascii_message, d, N)"
   ]
  },
  {
   "cell_type": "code",
   "execution_count": 17,
   "id": "3ce5c5d0",
   "metadata": {},
   "outputs": [
    {
     "name": "stdout",
     "output_type": "stream",
     "text": [
      "304820283272003699192890561125403875712724615032284634610698850932889801212774653865312869228197778162092194433606570940808751296040310034890414022525959896545428386626038670647736161798499216719676405231447226778252831907262986370318319019378960303321736531854447919350014101633930451284365677074035073936236988588362562158832174553383989062334819624990435648933736502698308201494759916467283082166381871240630985475513508305405790056820661894547968817618546008777856163788031545738529457589601196051825114280211822452403238784789704711585114476770432765472403216301464462053100702688922775635617249569117645401620\n"
     ]
    }
   ],
   "source": [
    "print(encrypted_message)"
   ]
  },
  {
   "cell_type": "code",
   "execution_count": 18,
   "id": "6a66231e",
   "metadata": {},
   "outputs": [
    {
     "name": "stdout",
     "output_type": "stream",
     "text": [
      "İ̴ěĐ\u0003ʻÀͺȱ}Ɠͫˈ˔ɧ Ĝɺɢʺ͒Τ͹̡Ô̆ʍ͡ĸͥäÅ̊¢\\ÂƱɞȺά̨˯Ĩ(Ķ\"ͺƞ\u0016ȍο΀ȡƬƂɲ&ʞʇˠ¡̞ǳØˏʤƕçƿâ̊ü̿΋ĆϚŲľĿ\u0013źπįŁˠȓ͖ƿΗŞ\u000eeɹ΢ǃĜŭʥJ#IΨìϜɌŪȲ̀®ȩſϝ>Ŏ̳ɰϞƳʈΥˠǶʺĴÉǮ˷ΔǓěR¦ŽͧðɶϙǛȁǼıƕ̖8̴ʕ;ȣψ̱ɪȢ\b̉͘£̔\u001fȡˢȑǉɍəÄ3̹rĘÓ̶ǄƓî̐̕ˀˇɉrǜ̂ư˽ǘƓØĭǐǎ5dʾʰΚ̇ɻɩùȹuʅƑɬ\n"
     ]
    }
   ],
   "source": [
    "print(convert_to_string(encrypted_message))"
   ]
  },
  {
   "cell_type": "markdown",
   "id": "dc657bae",
   "metadata": {},
   "source": [
    "Now anyone that wants to verify if the message was really from Eliezer can use his public key to decrypt the message"
   ]
  },
  {
   "cell_type": "code",
   "execution_count": 19,
   "id": "7ad44982",
   "metadata": {},
   "outputs": [
    {
     "name": "stdout",
     "output_type": "stream",
     "text": [
      "Hi from Eliezer!\n"
     ]
    }
   ],
   "source": [
    "decrypted_message = RSA_decrypt(encrypted_message, e, N)\n",
    "print(convert_to_string(decrypted_message))"
   ]
  },
  {
   "cell_type": "markdown",
   "id": "cdf46a9e",
   "metadata": {},
   "source": [
    "# Blinding Attack"
   ]
  },
  {
   "cell_type": "markdown",
   "id": "b224cf23",
   "metadata": {},
   "source": [
    "An attacker can execute what is known as a Blinding attack which will allow the attacker to obtain a message encrypted with the victim's private key.\n",
    "This message is something that the victim would never knowingly sign."
   ]
  },
  {
   "cell_type": "code",
   "execution_count": 20,
   "id": "d3abf081",
   "metadata": {},
   "outputs": [
    {
     "name": "stdout",
     "output_type": "stream",
     "text": [
      "84114097110115102101114032036049048048048048048048032116111032074111115104117097\n"
     ]
    }
   ],
   "source": [
    "bad_message = \"Transfer $1000000 to Joshua\"\n",
    "bad_ascii_message = convert_to_ascii(bad_message)\n",
    "print(bad_ascii_message)"
   ]
  },
  {
   "cell_type": "markdown",
   "id": "9c40267e",
   "metadata": {},
   "source": [
    "First, attacker needs to choose a random number, such that (R^e*M) mod N is something the victim will knowingly sign - Random number will be 7 in this case."
   ]
  },
  {
   "cell_type": "code",
   "execution_count": 21,
   "id": "930b00ef",
   "metadata": {},
   "outputs": [
    {
     "name": "stdout",
     "output_type": "stream",
     "text": [
      "19567505644295919156614934743979004764790938642435431729180738597609546366459820295770887978079\n"
     ]
    }
   ],
   "source": [
    "random_number = 7\n",
    "bad_ascii_message = bad_ascii_message * pow(random_number,e)\n",
    "print(bad_ascii_message)"
   ]
  },
  {
   "cell_type": "code",
   "execution_count": 22,
   "id": "c63b5b6e",
   "metadata": {},
   "outputs": [
    {
     "name": "stdout",
     "output_type": "stream",
     "text": [
      "\u0013ȷǹʄħΗɦΦ˧ϓ\u0004˼̖ΪʂƳƯ˙´ˢɕɡȢŮǋ̴ħ̂ͷϒO\n"
     ]
    }
   ],
   "source": [
    "print(convert_to_string(bad_ascii_message))"
   ]
  },
  {
   "cell_type": "markdown",
   "id": "73af353e",
   "metadata": {},
   "source": [
    "If the attacker somehow manages to get the recipient to sign it, the attacker will be able to obtained the bad message signed with the victim's private key."
   ]
  },
  {
   "cell_type": "code",
   "execution_count": 23,
   "id": "cc8f8d33",
   "metadata": {},
   "outputs": [
    {
     "name": "stdout",
     "output_type": "stream",
     "text": [
      "14946988574408187690930852874559302028214741448953531142735851916064612268432196292930750229412438333936855176555034128883943195631031528769427521182356214990982741142580573640009484651988371681004142779244934542386575326052351275461588442962518997136744141162613947058736730476821317829140714496140154311063430452448520518224323738355952038246415676355891843055985151858399819814587925697657427148120120655339073413525521516400285804285718908683617100698578884161142003312257975905356554119100219163866434116075026879151460886705555109699406788495618243178949710370037204188756421746585328949090400511663646307775414\n"
     ]
    }
   ],
   "source": [
    "bad_encrypted_message = RSA_encrypt(bad_ascii_message, d, N)\n",
    "print(bad_encrypted_message)"
   ]
  },
  {
   "cell_type": "markdown",
   "id": "8c4e3ca5",
   "metadata": {},
   "source": [
    "When the victim signs the bad message, it becomes (R^e*M)^d. This allows attacker to retrieve the signed message by dividing the signed message by R=7 and then mod N - Divide signed message by R to get M^d"
   ]
  },
  {
   "cell_type": "code",
   "execution_count": 24,
   "id": "f9dd9bee",
   "metadata": {},
   "outputs": [
    {
     "name": "stdout",
     "output_type": "stream",
     "text": [
      "8678363537032483932513102339523862270678300155544350437877770619896638971360337802329367989031223599454902882661324359931138960945528889772798752086963417163944988206921025156003637993222907625629481431443071914931008068679904958875847804677555001490868495665016216720931269908462076142652127769514724845147803743312217518914836695110293857880063545029169635755769072401514064530099855846550946787806459536183184374935926898056052983938898109177470342131510159915657411938760382687153316322573625213841289486845215891388877206085209378412876744867428294184412262314690331473835084499538804484394746795638261614115783\n"
     ]
    }
   ],
   "source": [
    "signed_message = (bad_encrypted_message * pow(7, -1, N)) % N\n",
    "print(signed_message)"
   ]
  },
  {
   "cell_type": "markdown",
   "id": "a615bca1",
   "metadata": {},
   "source": [
    "Decrypt with public key, and we see that this message was indeed signed by eliezer!"
   ]
  },
  {
   "cell_type": "code",
   "execution_count": 25,
   "id": "ae82c5d3",
   "metadata": {},
   "outputs": [
    {
     "name": "stdout",
     "output_type": "stream",
     "text": [
      "Transfer $1000000 to Joshua\n"
     ]
    }
   ],
   "source": [
    "decrypted_message = RSA_decrypt(signed_message, e, N)\n",
    "print(convert_to_string(decrypted_message))"
   ]
  },
  {
   "cell_type": "markdown",
   "id": "cf612260",
   "metadata": {},
   "source": [
    "# Conclusion"
   ]
  },
  {
   "cell_type": "markdown",
   "id": "cf7c5b87",
   "metadata": {},
   "source": [
    "To protect against this attack, the signer can pad the message after receiving it but before signing it\n",
    "\n",
    "Let f be some sort of padding function,\n",
    "\n",
    "m'= m * r^e mod N to be the tampered message\n",
    "\n",
    "The signer pads the m', m'' = f(m') and then signs it, (m'')^d mod N\n",
    "\n",
    "If the attacker tries to unblind, they will not be able to get the signed message"
   ]
  },
  {
   "cell_type": "markdown",
   "id": "a08e4df5",
   "metadata": {},
   "source": [
    "In this example, we will reuse our bad ascii message from the above demonstration"
   ]
  },
  {
   "cell_type": "code",
   "execution_count": 26,
   "id": "1e488d7f",
   "metadata": {},
   "outputs": [
    {
     "data": {
      "text/plain": [
       "19567505644295919156614934743979004764790938642435431729180738597609546366459820295770887978079"
      ]
     },
     "execution_count": 26,
     "metadata": {},
     "output_type": "execute_result"
    }
   ],
   "source": [
    "bad_ascii_message"
   ]
  },
  {
   "cell_type": "markdown",
   "id": "f68d0ad6",
   "metadata": {},
   "source": [
    "Legitimate receiver and signer decide on a secret fixed padding before hand, assume padding is \"iLoveCrypto\". HOWEVER, best case would be to use a padding algorithm"
   ]
  },
  {
   "cell_type": "code",
   "execution_count": 27,
   "id": "2b30dd00",
   "metadata": {},
   "outputs": [],
   "source": [
    "padding = convert_to_ascii(\"iLoveCrypto\")"
   ]
  },
  {
   "cell_type": "code",
   "execution_count": 28,
   "id": "1e1035f4",
   "metadata": {},
   "outputs": [],
   "source": [
    "padded_bad_ascii_message = bad_ascii_message + padding"
   ]
  },
  {
   "cell_type": "code",
   "execution_count": 29,
   "id": "9fbbea98",
   "metadata": {},
   "outputs": [
    {
     "data": {
      "text/plain": [
       "19567505644295919156614934743979004764790938642435431729180738702685657484560887409892000094190"
      ]
     },
     "execution_count": 29,
     "metadata": {},
     "output_type": "execute_result"
    }
   ],
   "source": [
    "padded_bad_ascii_message"
   ]
  },
  {
   "cell_type": "markdown",
   "id": "7844bcb3",
   "metadata": {},
   "source": [
    "Sign the padded message"
   ]
  },
  {
   "cell_type": "code",
   "execution_count": 30,
   "id": "5252a83e",
   "metadata": {},
   "outputs": [
    {
     "name": "stdout",
     "output_type": "stream",
     "text": [
      "13925348472104159651116936645931814267059966097741163783799078532738478300832283553459610604747961767645610355348128930671769806592239998460829558782851456106445719440910290145984966806001864392743527683356060053153605448881782367890106868468571785946864779301288937751435009429744473706291371201832565642560798375810324857412941264456374606392845128321901604965973325563157689911050484010182478002000587941097534677933721190674632341038807151092153875902004690728580046370077270977772328919178684381716865196315868032361319995375764712624243159997751802498982155104782193926598429242927587962609151836651567190212053\n"
     ]
    }
   ],
   "source": [
    "bad_encrypted_message = RSA_encrypt(padded_bad_ascii_message, d, N)\n",
    "print(bad_encrypted_message)"
   ]
  },
  {
   "cell_type": "markdown",
   "id": "cf0f788b",
   "metadata": {},
   "source": [
    "Then, the attacker tries retrieve the signed message by dividing the signed message by 7 and then mod N - Divide signed message by R to get M^d"
   ]
  },
  {
   "cell_type": "code",
   "execution_count": 31,
   "id": "ba49a528",
   "metadata": {},
   "outputs": [
    {
     "name": "stdout",
     "output_type": "stream",
     "text": [
      "12894467920971832292221672735634957720659366499643242903020949891155939883711794870345379061108310457817816956019788987865974146415003499694443209213356804481071335231050661080858800329565023889059129488302429736672058196199060204143669121633692639254155760969826888723486467747680928426952143478943442616787541613386475483006499496688078507321365765676532516717614845307165058533986037055787782658982249729190890004234809401046872497121393368146182766610284535639430454305026444164614299402481516181441121764197858376187493226932468896848875314660721642288410814022777245829535292213319727433151980514236934596467214\n"
     ]
    }
   ],
   "source": [
    "signed_message = (bad_encrypted_message * pow(7, -1, N)) % N\n",
    "print(signed_message)"
   ]
  },
  {
   "cell_type": "code",
   "execution_count": 32,
   "id": "58ad2bbf",
   "metadata": {},
   "outputs": [
    {
     "name": "stdout",
     "output_type": "stream",
     "text": [
      "²ǆȽèɒƦŀȍƉöĘÏ̚ƗɲͿϓŃ΃ĜφĨ\u001e",
      "˖ʎ¢̗ęʑοɈϕʮ¶ƎȿƵΊǭΰƮȦƈƯȀǮ!ň~ʎΰʕɌɹȺZėɥž͚ɀťκɇīɾΖˇÂ¶ήìʕǄͳǶ(úɣĩIɋ˼ώ̔ǳʫ̺Ĥ˂Ϗ\"˘úïǸȩȝ(đŖ˃ʕɜ¼Ƌϕ̦\u0013͜ΫÚʿïʼζ§̧̒ʽͣ\f",
      "˒Ɲ˪@Ƴ<ś˶ʑƞ̟àȁTʹʹk\u001bʈǶħɥɚʩμ\u0013ġɬʧŪɈûȸæàȫ͇\u0016ŨΫƷ\u0003ƎƩͺ˻̡.ƃļĠȢʷȵˮŎʹtƶƂʊŷɢ˨ʂǞ5ɵƬʺȾő̡ͦ˞˪Ã«\n"
     ]
    }
   ],
   "source": [
    "decrypted_message = RSA_decrypt(signed_message, e, N)\n",
    "print(convert_to_string(decrypted_message))"
   ]
  },
  {
   "cell_type": "code",
   "execution_count": null,
   "id": "303c8e9c",
   "metadata": {},
   "outputs": [],
   "source": []
  }
 ],
 "metadata": {
  "kernelspec": {
   "display_name": "Python 3 (ipykernel)",
   "language": "python",
   "name": "python3"
  },
  "language_info": {
   "codemirror_mode": {
    "name": "ipython",
    "version": 3
   },
   "file_extension": ".py",
   "mimetype": "text/x-python",
   "name": "python",
   "nbconvert_exporter": "python",
   "pygments_lexer": "ipython3",
   "version": "3.8.13"
  }
 },
 "nbformat": 4,
 "nbformat_minor": 5
}
