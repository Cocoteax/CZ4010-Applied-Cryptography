{
 "cells": [
  {
   "cell_type": "markdown",
   "id": "096d3f4a",
   "metadata": {},
   "source": [
    "# Imports"
   ]
  },
  {
   "cell_type": "code",
   "execution_count": 1,
   "id": "6ab4cd57",
   "metadata": {},
   "outputs": [],
   "source": [
    "import random\n",
    "import secrets\n",
    "from decimal import *"
   ]
  },
  {
   "cell_type": "markdown",
   "id": "9da521a0",
   "metadata": {},
   "source": [
    "# Functions"
   ]
  },
  {
   "cell_type": "markdown",
   "id": "383bb97a",
   "metadata": {},
   "source": [
    "Returns the GCD of 2 numbers"
   ]
  },
  {
   "cell_type": "code",
   "execution_count": 2,
   "id": "5464dd73",
   "metadata": {},
   "outputs": [],
   "source": [
    "def gcd(a, b):\n",
    "    while(b):\n",
    "        a, b = b, a % b \n",
    "    return a"
   ]
  },
  {
   "cell_type": "markdown",
   "id": "19fe500f",
   "metadata": {},
   "source": [
    "Continued Fractions"
   ]
  },
  {
   "cell_type": "code",
   "execution_count": 3,
   "id": "22e50855",
   "metadata": {},
   "outputs": [],
   "source": [
    "from fractions import Fraction\n",
    "\n",
    "def continued_fractions(convergence):\n",
    "    \n",
    "    convergence_list = []\n",
    "    for i in range(1, len(convergence) + 1):\n",
    "        convergence_list.append(convergence[:i])\n",
    "    \n",
    "    fractions = []\n",
    "    \n",
    "    for c in convergence_list:\n",
    "        fractions.append(recursive_continued_fraction(c.copy()))\n",
    "    \n",
    "    return fractions\n",
    "    \n",
    "def recursive_continued_fraction(convergence):\n",
    "    \n",
    "    a = convergence.pop(0)\n",
    "    \n",
    "    if len(convergence) == 0:\n",
    "        return a\n",
    "    else:\n",
    "        a = a + Fraction(1, (recursive_continued_fraction(convergence)))\n",
    "        return a\n",
    "    return a"
   ]
  },
  {
   "cell_type": "code",
   "execution_count": 4,
   "id": "7b2d9cc5",
   "metadata": {},
   "outputs": [],
   "source": [
    "def continued_fractions_expansion(a, b):\n",
    "    expansion = []\n",
    "    while(b):\n",
    "        expansion.append(a // b)\n",
    "        a, b = b, a % b \n",
    "    return expansion"
   ]
  },
  {
   "cell_type": "markdown",
   "id": "c9f0b85e",
   "metadata": {},
   "source": [
    "Rabin-Miller Primality Test<br>\n",
    "Checks if a number is prime, p is the number to be tested, s is the number of rounds<br>\n",
    "Number of rounds should ensure that the probability of p not being prime is < 2^(-80) "
   ]
  },
  {
   "cell_type": "code",
   "execution_count": 5,
   "id": "6679c69c",
   "metadata": {},
   "outputs": [],
   "source": [
    "def RMPT(n, s):\n",
    "    q = n - 1\n",
    "    k = 0\n",
    "    \n",
    "    # Set n = 2^k*q, this while loop returns values k and q\n",
    "    while q % 2 != 1:\n",
    "        q //= 2\n",
    "        k += 1\n",
    "    \n",
    "    # Number of iteration depends on security parameter S\n",
    "    for _ in range(s):\n",
    "        \n",
    "        # Choose a witness\n",
    "        a = random.randrange(2, n - 2)      \n",
    "        \n",
    "        # Set z = a^q mod n\n",
    "        z = pow(a, q, n)\n",
    "        \n",
    "        # If z = 1 mod n or z = -1 mod n, then n is likely prime.\n",
    "        if z == 1 or z == n - 1:\n",
    "            continue #Not a witness, pick another a\n",
    "        \n",
    "        # Else, look through i=0 to k-1\n",
    "        for i in range(1, k):\n",
    "            # Square z: z = a^2 mod n\n",
    "            z = pow(a, pow(2, i)*q, n)\n",
    "            \n",
    "            # If z = -1 mod n, then n is likely prime\n",
    "            if z == n - 1:\n",
    "                break #Not a witness, pick another a\n",
    "                \n",
    "        # After executing for loop, if a^((2^K)*Q)modP != -1 for all values of K, then a is a witness, therefore n is definitely not prime\n",
    "        else:\n",
    "            return False  \n",
    "        \n",
    "    return True #After S iterations still not a composite, chance to be a prime"
   ]
  },
  {
   "cell_type": "markdown",
   "id": "7e577f43",
   "metadata": {},
   "source": [
    "Converts a string to ascii"
   ]
  },
  {
   "cell_type": "code",
   "execution_count": 6,
   "id": "1bc01953",
   "metadata": {},
   "outputs": [],
   "source": [
    "def convert_to_ascii(message):\n",
    "    ascii_message = \"\"\n",
    "    for char in message:\n",
    "        ascii_char = ord(char)\n",
    "        ascii_char = str(ascii_char)\n",
    "        ascii_char = ascii_char.zfill(3)\n",
    "        ascii_message += ascii_char\n",
    "    return int(ascii_message)"
   ]
  },
  {
   "cell_type": "markdown",
   "id": "8d9e4614",
   "metadata": {},
   "source": [
    "Converts ascii back to string"
   ]
  },
  {
   "cell_type": "code",
   "execution_count": 7,
   "id": "6c26fd7a",
   "metadata": {},
   "outputs": [],
   "source": [
    "from textwrap import wrap\n",
    "\n",
    "def convert_to_string(ascii_message):\n",
    "    message = \"\"\n",
    "    ascii_message = str(ascii_message)\n",
    "    if(len(ascii_message) % 3 != 0):\n",
    "        for _ in range(3 - len(ascii_message) % 3):\n",
    "            ascii_message = \"0\" + ascii_message\n",
    "    ascii_list = wrap(ascii_message, 3)\n",
    "    for ascii in ascii_list:\n",
    "        message = message + chr(int(ascii))\n",
    "    return message"
   ]
  },
  {
   "cell_type": "markdown",
   "id": "ac8b139e",
   "metadata": {},
   "source": [
    "Generates the decryption key using public key e and 2 prime numbers p and q"
   ]
  },
  {
   "cell_type": "code",
   "execution_count": 8,
   "id": "63f5f453",
   "metadata": {},
   "outputs": [],
   "source": [
    "def RSA_generate_D(e, p, q):\n",
    "    N = p * q\n",
    "    phi_N = (p - 1) * (q - 1)\n",
    "    assert gcd(e, phi_N) == 1, \"GCD of e and phi N must be 1\"\n",
    "    d = pow(e, -1, phi_N)\n",
    "    return d"
   ]
  },
  {
   "cell_type": "markdown",
   "id": "3c8ef73d",
   "metadata": {},
   "source": [
    "Encrypts a number with public key e"
   ]
  },
  {
   "cell_type": "code",
   "execution_count": 9,
   "id": "53f62355",
   "metadata": {},
   "outputs": [],
   "source": [
    "def RSA_encrypt(ascii_message, e, N):\n",
    "    encrypted_message = pow(ascii_message, e, N)\n",
    "    return encrypted_message"
   ]
  },
  {
   "cell_type": "markdown",
   "id": "d515efb8",
   "metadata": {},
   "source": [
    "Encrypts a number using private key d"
   ]
  },
  {
   "cell_type": "code",
   "execution_count": 10,
   "id": "508a53d4",
   "metadata": {},
   "outputs": [],
   "source": [
    "def RSA_decrypt(encrypted_message, d, N):\n",
    "    ascii_message = pow(encrypted_message, d, N)\n",
    "    return ascii_message"
   ]
  },
  {
   "cell_type": "markdown",
   "id": "a389ea89",
   "metadata": {},
   "source": [
    "Continuously generates random bit_length numbers<br>\n",
    "If number is even, adds one to make it odd<br>\n",
    "Tries to factorize the number with small primes to determine if composite<br>\n",
    "Uses Rabin-Miller Primality Test if it is still possible to be a prime number"
   ]
  },
  {
   "cell_type": "code",
   "execution_count": 11,
   "id": "af3da1c8",
   "metadata": {},
   "outputs": [],
   "source": [
    "def Generate_Prime(bit_length, RMPT_rounds):   \n",
    "    while(True):\n",
    "        num = secrets.randbits(bit_length)\n",
    "        \n",
    "        #If number is even, make it odd\n",
    "        if num%2 == 0:\n",
    "            num += 1\n",
    "        #Try factorize using small primes\n",
    "        elif num%3 == 0:\n",
    "            continue\n",
    "        elif num%5 == 0:\n",
    "            continue\n",
    "        elif num%7 == 0:\n",
    "            continue\n",
    "        elif num%11 == 0:\n",
    "            continue\n",
    "        #Try the expensive Rabin-Miller Primality Test\n",
    "        elif RMPT(num, RMPT_rounds):\n",
    "            print(num)\n",
    "            return num"
   ]
  },
  {
   "cell_type": "markdown",
   "id": "f9b97c15",
   "metadata": {},
   "source": [
    "# RSA 1024"
   ]
  },
  {
   "cell_type": "markdown",
   "id": "f66bc9ee",
   "metadata": {},
   "source": [
    "Generate 2 random 1024 bit primes"
   ]
  },
  {
   "cell_type": "code",
   "execution_count": 12,
   "id": "63c72d68",
   "metadata": {},
   "outputs": [
    {
     "name": "stdout",
     "output_type": "stream",
     "text": [
      "80898932609390239944232389542832668529884078467540367835365016600412364131653227647497642289227017841921384330418676971617032705723603096904381778807713583739687930761964288006840764934629584700659068438946293238989367433990626115990645439321715363045696197433696039622303117088690197266492390210073898044313\n"
     ]
    }
   ],
   "source": [
    "p = Generate_Prime(1024, 3)"
   ]
  },
  {
   "cell_type": "code",
   "execution_count": 13,
   "id": "b2f24fa9",
   "metadata": {},
   "outputs": [
    {
     "name": "stdout",
     "output_type": "stream",
     "text": [
      "2630271862505791785486797041386366840316369562888191264489607498483342945736434028104215174145943207817664831851705948332226554498391767262873399791981078948946684267023356055768351204588749700721014672323623950787088713634147267747830491305271931535206549045775050339535393088630554884499773888866673703611\n"
     ]
    }
   ],
   "source": [
    "q = Generate_Prime(1024, 3)"
   ]
  },
  {
   "cell_type": "code",
   "execution_count": 14,
   "id": "e0f0ecd6",
   "metadata": {},
   "outputs": [],
   "source": [
    "N = p * q"
   ]
  },
  {
   "cell_type": "markdown",
   "id": "4de71c53",
   "metadata": {},
   "source": [
    "If we are designing a program that has a high emphasis on performance, in particular having high performance decryption, using a large decryption exponent would mean it would take longer.\n",
    "\n",
    "Lets say that instead of using e to encrypt your message, you instead choose to use a much larger d to encrypt, using the smaller e to decrypt the message.\n",
    "\n",
    "This should increase the performance!\n",
    "\n",
    "But doing so would allow someone to use Wiener's attack to retrieve your decryption exponent since the decryption exponent is smaller than 1/3 * N ^ 1/4"
   ]
  },
  {
   "cell_type": "markdown",
   "id": "5cfded44",
   "metadata": {},
   "source": [
    "# Wiener's attack"
   ]
  },
  {
   "cell_type": "markdown",
   "id": "f5fc2278",
   "metadata": {},
   "source": [
    "First lets randomly generate a small decryption exponent: Choose a 32 bit prime number"
   ]
  },
  {
   "cell_type": "code",
   "execution_count": 15,
   "id": "9c4c0325",
   "metadata": {},
   "outputs": [],
   "source": [
    "phi_N = (p-1) * (q-1)\n",
    "\n",
    "# Generate a random 32 bit decryption exponent that satisfies GCD(d, phi_N) == 1\n",
    "while(True):\n",
    "    d = random.getrandbits(32)\n",
    "    if gcd(d, phi_N) == 1:\n",
    "        break;"
   ]
  },
  {
   "cell_type": "code",
   "execution_count": 16,
   "id": "3958da3d",
   "metadata": {},
   "outputs": [
    {
     "name": "stdout",
     "output_type": "stream",
     "text": [
      "1068861653\n"
     ]
    }
   ],
   "source": [
    "print(d)"
   ]
  },
  {
   "cell_type": "markdown",
   "id": "faf3a17e",
   "metadata": {},
   "source": [
    "Compute the encryption exponent: e = d^-1 mod phi(n)"
   ]
  },
  {
   "cell_type": "code",
   "execution_count": 17,
   "id": "9957cfa7",
   "metadata": {},
   "outputs": [],
   "source": [
    "e = RSA_generate_D(d, p, q)"
   ]
  },
  {
   "cell_type": "code",
   "execution_count": 18,
   "id": "b2b1e737",
   "metadata": {},
   "outputs": [
    {
     "name": "stdout",
     "output_type": "stream",
     "text": [
      "154582342869724303172654310050957233327513881024685873271089937275476121096683147295697736651249172279737505340006813372566853908256106087094822041959563410135337089304935776980453401762508004513863106306717642804680400402710117864712715715781397034921433636544450025641317316849084511138511667635248428497855825890109380101884160990742202087085928006574935362633485839050398654912079713367917330747625892519585618896638608502995905349612682575677839199599500262566878413186086109513489905951361745983779221066131457081659628420459721237945236054048838192707539313808945371676068470821409859684189667115186391529757\n"
     ]
    }
   ],
   "source": [
    "print(e)"
   ]
  },
  {
   "cell_type": "code",
   "execution_count": 27,
   "id": "4762a9e0",
   "metadata": {},
   "outputs": [
    {
     "name": "stdout",
     "output_type": "stream",
     "text": [
      "87104121032117115105110103032115109097108108032100101099114121112116105111110032101120112111110101110116032105115032098097100\n"
     ]
    }
   ],
   "source": [
    "message = \"Why using small decryption exponent is bad\"\n",
    "\n",
    "ascii_message = convert_to_ascii(message)\n",
    "print(ascii_message)"
   ]
  },
  {
   "cell_type": "markdown",
   "id": "027864c0",
   "metadata": {},
   "source": [
    "Encrypt message using e"
   ]
  },
  {
   "cell_type": "code",
   "execution_count": 28,
   "id": "4d94f0e9",
   "metadata": {},
   "outputs": [],
   "source": [
    "encrypted_message = RSA_encrypt(ascii_message, e, N)"
   ]
  },
  {
   "cell_type": "code",
   "execution_count": 29,
   "id": "f8f84802",
   "metadata": {},
   "outputs": [
    {
     "name": "stdout",
     "output_type": "stream",
     "text": [
      "85646873753375238281338329956930320269852287169908439791438360911027329140988567157108005941558945091709834388004810264739672053709267505019846667001828571615306001695374768051550993392461939861488697964112323912558908348413451611100134969675136058248077789260773993354882663517927105414354436889608565528515496358084081189503509738731079570017649293531259869374501733813712472768838785448874680050599882489079173050763399751921502304549254015158727655900206649372261543312494095663724416335473852039467088894758516751843541415185061557349729978069302161797728508812280036172544128292137595109420274730032904946107\n"
     ]
    }
   ],
   "source": [
    "print(encrypted_message)"
   ]
  },
  {
   "cell_type": "code",
   "execution_count": 22,
   "id": "de4ad5ef",
   "metadata": {},
   "outputs": [
    {
     "name": "stdout",
     "output_type": "stream",
     "text": [
      "Uʆͩ˱ŷîęŒŉμ΢ŀč͔ğ©ΌƷ̗ƶŨΏ\u001bŉϜȷl\u0005έȮα[˅͂Ƅ\u0004̪Ĉˣʠ5˅ċǹ\u0013͎ʛ\u0001̼ȻɧĲ\u0001ʷŶ̀3ȦϡƈǍΫ͝ǨʹτpŃΐȮΌŜƝǃɣdωʣ:øM̕Ą̅ϡŢͲʗȅΟiƞŢƴ͹ɠȵȐȃǰŦTQ½Ƿǽˢ˛OȺ\u0011ʉĥȓăͥŶǵ˝̭ˈǘ̀͆̑ǀͪʨ2ɗͲǩO­2˻Ə˯ΙǶİȥþ\u000f˗ʏ΄ÎʉŴąȟĸǮ_ʗ˔ƠŏǙ͔'ǓX;˶Ȅ˯͋ȝƟ¹=ȭŝ˙ϒEĮ¡̝˘Ǽ̬Ę$¬ȠĤɓmƤĒ˚ Έβk\n"
     ]
    }
   ],
   "source": [
    "print(convert_to_string(encrypted_message))"
   ]
  },
  {
   "cell_type": "markdown",
   "id": "d51620cc",
   "metadata": {},
   "source": [
    "I can now calculate the convergents of e/N"
   ]
  },
  {
   "cell_type": "code",
   "execution_count": 30,
   "id": "6e9425d5",
   "metadata": {},
   "outputs": [],
   "source": [
    "expansion = continued_fractions_expansion(e, N)\n",
    "fractions = continued_fractions(expansion)"
   ]
  },
  {
   "cell_type": "markdown",
   "id": "f51ae8de",
   "metadata": {},
   "source": [
    "One of the denominators will be d"
   ]
  },
  {
   "cell_type": "code",
   "execution_count": 24,
   "id": "ff6ad026",
   "metadata": {},
   "outputs": [],
   "source": [
    "denominators = []\n",
    "for i in fractions:\n",
    "    denominators.append(i.denominator)"
   ]
  },
  {
   "cell_type": "markdown",
   "id": "252025b4",
   "metadata": {},
   "source": [
    "(m^e)^d mod N\n",
    "\n",
    "= m^1 mod N\n",
    "\n",
    "= m mod N\n",
    "\n",
    "We can encrypt a random message with e and test out all the denominators to see which one will result in getting the same message back\n",
    "\n",
    "I.e. Test which demoninator d satisfies this equation: (M^e)^d = M"
   ]
  },
  {
   "cell_type": "code",
   "execution_count": 25,
   "id": "7bfa436c",
   "metadata": {},
   "outputs": [],
   "source": [
    "random_message = pow(17, e, N)"
   ]
  },
  {
   "cell_type": "code",
   "execution_count": 26,
   "id": "b36d25e5",
   "metadata": {},
   "outputs": [
    {
     "name": "stdout",
     "output_type": "stream",
     "text": [
      "1068861653\n"
     ]
    }
   ],
   "source": [
    "for denominator in denominators:\n",
    "    if pow(random_message, denominator, N) == 17 :\n",
    "        print(denominator)\n",
    "        break;"
   ]
  },
  {
   "cell_type": "markdown",
   "id": "98d07372",
   "metadata": {},
   "source": [
    "We found d!"
   ]
  },
  {
   "cell_type": "markdown",
   "id": "1dfd462d",
   "metadata": {},
   "source": [
    "# Conclusion"
   ]
  },
  {
   "cell_type": "markdown",
   "id": "cceb53bf",
   "metadata": {},
   "source": [
    "Make sure the decryption exponent is greater than 1/3 * N ^ 1/4 to prevent Wiener's attack, and greater than N^0.292 for Boneh and Durfee's improved Wiener's attack\n",
    "\n",
    "But the best case is just not use a small decryption exponent in the first place"
   ]
  },
  {
   "cell_type": "code",
   "execution_count": null,
   "id": "3a309afa",
   "metadata": {},
   "outputs": [],
   "source": []
  }
 ],
 "metadata": {
  "kernelspec": {
   "display_name": "Python 3 (ipykernel)",
   "language": "python",
   "name": "python3"
  },
  "language_info": {
   "codemirror_mode": {
    "name": "ipython",
    "version": 3
   },
   "file_extension": ".py",
   "mimetype": "text/x-python",
   "name": "python",
   "nbconvert_exporter": "python",
   "pygments_lexer": "ipython3",
   "version": "3.8.13"
  }
 },
 "nbformat": 4,
 "nbformat_minor": 5
}
